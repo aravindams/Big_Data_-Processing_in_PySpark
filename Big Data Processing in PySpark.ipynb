{
 "cells": [
  {
   "cell_type": "markdown",
   "metadata": {},
   "source": [
    "# Big Data Processing in PySpark"
   ]
  },
  {
   "cell_type": "markdown",
   "metadata": {},
   "source": [
    "### Rain in Australia: Predict rain tomorrow in Australia using PySpark\n",
    "\n",
    "Predicting rain or weather is a common problem in machine learning. Different machine learning algorithms can be used to model and predict rainfall. In this assignment, we ask you to complete the analysis to predict whether there will be rain tomorrow or not. In particular, you are required to apply the tools of machine learning to visualize and predict the possibility of rainfall in Australia."
   ]
  },
  {
   "cell_type": "markdown",
   "metadata": {},
   "source": [
    "#### Required libraries"
   ]
  },
  {
   "cell_type": "markdown",
   "metadata": {},
   "source": [
    "We are using the Binary classification algorithms:\n",
    "\n",
    "- Logistic Regression \n",
    "- Decession Tree Classifier \n",
    "- GBT Classifier (Gradient Boosted Trees)\n",
    "- Random Forest Classifier "
   ]
  },
  {
   "cell_type": "code",
   "execution_count": 1,
   "metadata": {},
   "outputs": [],
   "source": [
    "from pyspark.ml import Pipeline\n",
    "from pyspark.ml.feature import  StringIndexer,VectorAssembler\n",
    "from pyspark.sql.functions import col, when , mean\n",
    "from pyspark.ml.classification import LogisticRegression\n",
    "from pyspark.ml.evaluation import BinaryClassificationEvaluator\n",
    "from pyspark.ml.classification import DecisionTreeClassifier\n",
    "from pyspark.ml.classification import GBTClassifier\n",
    "from pyspark.mllib.evaluation import BinaryClassificationMetrics,MulticlassMetrics\n",
    "import matplotlib.pyplot as plt\n",
    "import numpy as np\n",
    "import itertools"
   ]
  },
  {
   "cell_type": "markdown",
   "metadata": {},
   "source": [
    "# A. Creating Spark Session and Loading the Data"
   ]
  },
  {
   "cell_type": "markdown",
   "metadata": {},
   "source": [
    "## SparkContext and SparkSession\n",
    "We will use and import **`SparkContext`** from **`pyspark`**, which is the main entry point for Spark Core functionality. The **`SparkSession`** object provides methods used to create DataFrames from various input sources. \n",
    "A [DataFrame](https://spark.apache.org/docs/latest/api/python/pyspark.sql.html#pyspark.sql.DataFrame) is equivalent to a relational table in Spark SQL, and can be created using various functions in SparkSession. Once created, it can be manipulated using the various domain-specific-language (DSL) functions defined in: [DataFrame](https://spark.apache.org/docs/latest/api/python/pyspark.sql.html#pyspark.sql.DataFrame), [Column](https://spark.apache.org/docs/latest/api/python/pyspark.sql.html#pyspark.sql.Column).\n"
   ]
  },
  {
   "cell_type": "markdown",
   "metadata": {},
   "source": [
    "- local[4]: run Spark locally with 4 working processors as logical cores on your machine.\n",
    "    \n",
    "- We are running spark locally  with '4' worker threads, we can specify as `local[4]`.\n",
    "\n",
    "- The `appName` field is a name to be shown on the Sparking cluster UI. The appname has been specified as Assignment 2 Application Design\n"
   ]
  },
  {
   "cell_type": "code",
   "execution_count": 2,
   "metadata": {},
   "outputs": [],
   "source": [
    "# create entry points to spark\n",
    "from pyspark import SparkContext # Spark\n",
    "from pyspark.sql import SparkSession # Spark SQL\n",
    "\n",
    "# We add this line to avoid an error : \"Cannot run multiple SparkContexts at once\". \n",
    "# If there is an existing spark context, we will reuse it instead of creating a new context.\n",
    "sc = SparkContext.getOrCreate()\n",
    "\n",
    "# local[*]: run Spark locally with as many working processors as logical cores on your machine.\n",
    "# In the field of `master`, we use a local server with as many working processors (or threads) as possible (i.e. `local[*]`). \n",
    "# If we want Spark to run locally with '4' worker threads, we can specify as `local[4]`.\n",
    "# The `appName` field is a name to be shown on the Sparking cluster UI. \n",
    "\n",
    "# If there is no existing spark context, we now create a new context\n",
    "if (sc is None):\n",
    "    sc = SparkContext(master=\"local[4]\", appName=\"Assignment 2 Application Design\")\n",
    "spark = SparkSession(sparkContext=sc)"
   ]
  },
  {
   "cell_type": "markdown",
   "metadata": {},
   "source": [
    "## DataFrame: Loading the dataset"
   ]
  },
  {
   "cell_type": "markdown",
   "metadata": {},
   "source": [
    "#### Step 02: Load the dataset and print the schema and total number of entries"
   ]
  },
  {
   "cell_type": "markdown",
   "metadata": {},
   "source": [
    "#### Loading the dataset weatherAus.csv"
   ]
  },
  {
   "cell_type": "code",
   "execution_count": 3,
   "metadata": {},
   "outputs": [],
   "source": [
    "# Load weather csv file using Spark csv package\n",
    "weather_data = spark.read.csv('weatherAUS.csv', header=True, inferSchema=True)"
   ]
  },
  {
   "cell_type": "code",
   "execution_count": 4,
   "metadata": {
    "scrolled": true
   },
   "outputs": [
    {
     "name": "stdout",
     "output_type": "stream",
     "text": [
      "+-------------------+--------+-------+-------+--------+-----------+--------+-----------+-------------+----------+----------+------------+------------+-----------+-----------+-----------+-----------+--------+--------+-------+-------+---------+------------+\n",
      "|Date               |Location|MinTemp|MaxTemp|Rainfall|Evaporation|Sunshine|WindGustDir|WindGustSpeed|WindDir9am|WindDir3pm|WindSpeed9am|WindSpeed3pm|Humidity9am|Humidity3pm|Pressure9am|Pressure3pm|Cloud9am|Cloud3pm|Temp9am|Temp3pm|RainToday|RainTomorrow|\n",
      "+-------------------+--------+-------+-------+--------+-----------+--------+-----------+-------------+----------+----------+------------+------------+-----------+-----------+-----------+-----------+--------+--------+-------+-------+---------+------------+\n",
      "|2008-12-01 00:00:00|Albury  |13.4   |22.9   |0.6     |NA         |NA      |W          |44           |W         |WNW       |20          |24          |71         |22         |1007.7     |1007.1     |8       |NA      |16.9   |21.8   |No       |No          |\n",
      "|2008-12-02 00:00:00|Albury  |7.4    |25.1   |0       |NA         |NA      |WNW        |44           |NNW       |WSW       |4           |22          |44         |25         |1010.6     |1007.8     |NA      |NA      |17.2   |24.3   |No       |No          |\n",
      "|2008-12-03 00:00:00|Albury  |12.9   |25.7   |0       |NA         |NA      |WSW        |46           |W         |WSW       |19          |26          |38         |30         |1007.6     |1008.7     |NA      |2       |21     |23.2   |No       |No          |\n",
      "|2008-12-04 00:00:00|Albury  |9.2    |28     |0       |NA         |NA      |NE         |24           |SE        |E         |11          |9           |45         |16         |1017.6     |1012.8     |NA      |NA      |18.1   |26.5   |No       |No          |\n",
      "|2008-12-05 00:00:00|Albury  |17.5   |32.3   |1       |NA         |NA      |W          |41           |ENE       |NW        |7           |20          |82         |33         |1010.8     |1006       |7       |8       |17.8   |29.7   |No       |No          |\n",
      "|2008-12-06 00:00:00|Albury  |14.6   |29.7   |0.2     |NA         |NA      |WNW        |56           |W         |W         |19          |24          |55         |23         |1009.2     |1005.4     |NA      |NA      |20.6   |28.9   |No       |No          |\n",
      "|2008-12-07 00:00:00|Albury  |14.3   |25     |0       |NA         |NA      |W          |50           |SW        |W         |20          |24          |49         |19         |1009.6     |1008.2     |1       |NA      |18.1   |24.6   |No       |No          |\n",
      "|2008-12-08 00:00:00|Albury  |7.7    |26.7   |0       |NA         |NA      |W          |35           |SSE       |W         |6           |17          |48         |19         |1013.4     |1010.1     |NA      |NA      |16.3   |25.5   |No       |No          |\n",
      "|2008-12-09 00:00:00|Albury  |9.7    |31.9   |0       |NA         |NA      |NNW        |80           |SE        |NW        |7           |28          |42         |9          |1008.9     |1003.6     |NA      |NA      |18.3   |30.2   |No       |Yes         |\n",
      "|2008-12-10 00:00:00|Albury  |13.1   |30.1   |1.4     |NA         |NA      |W          |28           |S         |SSE       |15          |11          |58         |27         |1007       |1005.7     |NA      |NA      |20.1   |28.2   |Yes      |No          |\n",
      "|2008-12-11 00:00:00|Albury  |13.4   |30.4   |0       |NA         |NA      |N          |30           |SSE       |ESE       |17          |6           |48         |22         |1011.8     |1008.7     |NA      |NA      |20.4   |28.8   |No       |Yes         |\n",
      "|2008-12-12 00:00:00|Albury  |15.9   |21.7   |2.2     |NA         |NA      |NNE        |31           |NE        |ENE       |15          |13          |89         |91         |1010.5     |1004.2     |8       |8       |15.9   |17     |Yes      |Yes         |\n",
      "|2008-12-13 00:00:00|Albury  |15.9   |18.6   |15.6    |NA         |NA      |W          |61           |NNW       |NNW       |28          |28          |76         |93         |994.3      |993        |8       |8       |17.4   |15.8   |Yes      |Yes         |\n",
      "|2008-12-14 00:00:00|Albury  |12.6   |21     |3.6     |NA         |NA      |SW         |44           |W         |SSW       |24          |20          |65         |43         |1001.2     |1001.8     |NA      |7       |15.8   |19.8   |Yes      |No          |\n",
      "|2008-12-16 00:00:00|Albury  |9.8    |27.7   |NA      |NA         |NA      |WNW        |50           |NA        |WNW       |NA          |22          |50         |28         |1013.4     |1010.3     |0       |NA      |17.3   |26.2   |NA       |No          |\n",
      "|2008-12-17 00:00:00|Albury  |14.1   |20.9   |0       |NA         |NA      |ENE        |22           |SSW       |E         |11          |9           |69         |82         |1012.2     |1010.4     |8       |1       |17.2   |18.1   |No       |Yes         |\n",
      "|2008-12-18 00:00:00|Albury  |13.5   |22.9   |16.8    |NA         |NA      |W          |63           |N         |WNW       |6           |20          |80         |65         |1005.8     |1002.2     |8       |1       |18     |21.5   |Yes      |Yes         |\n",
      "|2008-12-19 00:00:00|Albury  |11.2   |22.5   |10.6    |NA         |NA      |SSE        |43           |WSW       |SW        |24          |17          |47         |32         |1009.4     |1009.7     |NA      |2       |15.5   |21     |Yes      |No          |\n",
      "|2008-12-20 00:00:00|Albury  |9.8    |25.6   |0       |NA         |NA      |SSE        |26           |SE        |NNW       |17          |6           |45         |26         |1019.2     |1017.1     |NA      |NA      |15.8   |23.2   |No       |No          |\n",
      "|2008-12-21 00:00:00|Albury  |11.5   |29.3   |0       |NA         |NA      |S          |24           |SE        |SE        |9           |9           |56         |28         |1019.3     |1014.8     |NA      |NA      |19.1   |27.3   |No       |No          |\n",
      "+-------------------+--------+-------+-------+--------+-----------+--------+-----------+-------------+----------+----------+------------+------------+-----------+-----------+-----------+-----------+--------+--------+-------+-------+---------+------------+\n",
      "only showing top 20 rows\n",
      "\n"
     ]
    }
   ],
   "source": [
    "weather_data.show(truncate=False)"
   ]
  },
  {
   "cell_type": "markdown",
   "metadata": {},
   "source": [
    "### printSchema:\n",
    "\n",
    "Prints out the schema in tree format "
   ]
  },
  {
   "cell_type": "code",
   "execution_count": 5,
   "metadata": {},
   "outputs": [
    {
     "name": "stdout",
     "output_type": "stream",
     "text": [
      "root\n",
      " |-- Date: timestamp (nullable = true)\n",
      " |-- Location: string (nullable = true)\n",
      " |-- MinTemp: string (nullable = true)\n",
      " |-- MaxTemp: string (nullable = true)\n",
      " |-- Rainfall: string (nullable = true)\n",
      " |-- Evaporation: string (nullable = true)\n",
      " |-- Sunshine: string (nullable = true)\n",
      " |-- WindGustDir: string (nullable = true)\n",
      " |-- WindGustSpeed: string (nullable = true)\n",
      " |-- WindDir9am: string (nullable = true)\n",
      " |-- WindDir3pm: string (nullable = true)\n",
      " |-- WindSpeed9am: string (nullable = true)\n",
      " |-- WindSpeed3pm: string (nullable = true)\n",
      " |-- Humidity9am: string (nullable = true)\n",
      " |-- Humidity3pm: string (nullable = true)\n",
      " |-- Pressure9am: string (nullable = true)\n",
      " |-- Pressure3pm: string (nullable = true)\n",
      " |-- Cloud9am: string (nullable = true)\n",
      " |-- Cloud3pm: string (nullable = true)\n",
      " |-- Temp9am: string (nullable = true)\n",
      " |-- Temp3pm: string (nullable = true)\n",
      " |-- RainToday: string (nullable = true)\n",
      " |-- RainTomorrow: string (nullable = true)\n",
      "\n"
     ]
    }
   ],
   "source": [
    "weather_data.printSchema()"
   ]
  },
  {
   "cell_type": "markdown",
   "metadata": {},
   "source": [
    "#### Total no of entries in the datset\n",
    "\n",
    "we are getting the count of total no of rows in the datset "
   ]
  },
  {
   "cell_type": "code",
   "execution_count": 6,
   "metadata": {},
   "outputs": [
    {
     "name": "stdout",
     "output_type": "stream",
     "text": [
      "Total No of entries in the dataset :  142193\n"
     ]
    }
   ],
   "source": [
    "print(\"Total No of entries in the dataset : \",weather_data.count())"
   ]
  },
  {
   "cell_type": "markdown",
   "metadata": {},
   "source": [
    "# B. Data Cleaning and Processing"
   ]
  },
  {
   "cell_type": "markdown",
   "metadata": {},
   "source": [
    "### Step 03: Delete columns from the dataset\n",
    "\n",
    "We are deleting the columns assuming that they are not going to make any impact on target varibale for predicion as we have other columns which had impact target variable.\n",
    "\n",
    "As we are deleting  the following columns due to data quality and accuracy.\n",
    "\n",
    "● Date\n",
    "\n",
    "● Location\n",
    "\n",
    "● Evaporation\n",
    "\n",
    "● Sunshine\n",
    "\n",
    "● Cloud9am\n",
    "\n",
    "● Cloud3pm\n",
    "\n",
    "● Temp9am\n",
    "\n",
    "● Temp3pm"
   ]
  },
  {
   "cell_type": "code",
   "execution_count": 7,
   "metadata": {},
   "outputs": [
    {
     "data": {
      "text/plain": [
       "'DataFrame[Date: timestamp, Location: string, MinTemp: string, MaxTemp: string, Rainfall: string, Evaporation: string, Sunshine: string, WindGustDir: string, WindGustSpeed: string, WindDir9am: string, WindDir3pm: string, WindSpeed9am: string, WindSpeed3pm: string, Humidity9am: string, Humidity3pm: string, Pressure9am: string, Pressure3pm: string, Cloud9am: string, Cloud3pm: string, Temp9am: string, Temp3pm: string, RainToday: string, RainTomorrow: string]'"
      ]
     },
     "execution_count": 7,
     "metadata": {},
     "output_type": "execute_result"
    }
   ],
   "source": [
    "# displaying the columns present in the dataframe\n",
    "str(weather_data)"
   ]
  },
  {
   "cell_type": "code",
   "execution_count": 8,
   "metadata": {},
   "outputs": [],
   "source": [
    "#creating the list of columns to drop \n",
    "drop_list = ['Date', 'Location', 'Evaporation', 'Sunshine', 'Cloud9am', 'Cloud3pm', 'Temp9am', 'Temp3pm']\n",
    "# removing the columns from the dataframe which are in the list\n",
    "weather_data = weather_data.select([column for column in weather_data.columns if column not in drop_list])\n"
   ]
  },
  {
   "cell_type": "code",
   "execution_count": 9,
   "metadata": {},
   "outputs": [],
   "source": [
    "# storing the columns into cols variable\n",
    "cols = weather_data.columns"
   ]
  },
  {
   "cell_type": "markdown",
   "metadata": {},
   "source": [
    " list of columns after deleting few columns from the dataframe "
   ]
  },
  {
   "cell_type": "code",
   "execution_count": 10,
   "metadata": {},
   "outputs": [
    {
     "data": {
      "text/plain": [
       "['MinTemp',\n",
       " 'MaxTemp',\n",
       " 'Rainfall',\n",
       " 'WindGustDir',\n",
       " 'WindGustSpeed',\n",
       " 'WindDir9am',\n",
       " 'WindDir3pm',\n",
       " 'WindSpeed9am',\n",
       " 'WindSpeed3pm',\n",
       " 'Humidity9am',\n",
       " 'Humidity3pm',\n",
       " 'Pressure9am',\n",
       " 'Pressure3pm',\n",
       " 'RainToday',\n",
       " 'RainTomorrow']"
      ]
     },
     "execution_count": 10,
     "metadata": {},
     "output_type": "execute_result"
    }
   ],
   "source": [
    "cols"
   ]
  },
  {
   "cell_type": "markdown",
   "metadata": {},
   "source": [
    "We are Considering the Australian Weather Data set, specifying the columns after removing the coulmns from the dataframe.\n",
    "\n",
    "<b>` Data Description: ` </b>\n",
    "\n",
    "<b>`Predictor Variables:`</b>\n",
    "\n",
    "- `Min Temp` : Minimum Temparature recorded on the particular day\n",
    "\n",
    "- `Max Temp` : Maximum Temparature Recored on the particular day\n",
    "\n",
    "- `Rainfall` : Amount of Rainfall on a particular day\n",
    "\n",
    "- `WindGustDir` : A wind gust is a sudden, seconds-long burst of high-speed wind that's followed by a lull. Specifying the direction of the Wind, different combinations of North, East, West, South (Specified as N, E, W, S)\n",
    "\n",
    "- `WindGustSpeed` : A wind gust is a sudden, seconds-long burst of high-speed wind that's followed by a lull, Given the speed of the Wind on the particular day.\n",
    "\n",
    "- `WindDir9am` : Specifying the Direction of the wind at 9am \n",
    "\n",
    "- `WindDir3pm` : Specifying the Direction of the wind at 3pm \n",
    "\n",
    "- `WindSpeed9am` : Speed of the wind at 9am of the particular day\n",
    "\n",
    "- `WindSpeed3pm` : speed of the wind at 3 pm of the particular day\n",
    "\n",
    "- `Humidity9am` : Humidity at the 9am of the particular day specified as numeric value \n",
    "\n",
    "- `Humidity3pm` : Humidity at the 3pm of the particular day specified as numeric value \n",
    "\n",
    "- `Pressure9am` : Pressure at 9am of the particular day specified as the numeric value \n",
    "\n",
    "- `Pressure3pm` : Pressure at 3pm of teh particular day specified as teh numeric value \n",
    "\n",
    "- `RainToday`  : Whether there is rain or not on the particular day or not, represented as the binary kind of variables `yes or no`\n",
    "\n",
    "<b>`Target Variable:`</b>\n",
    "\n",
    "- `RainTomorrow` :  Predicting the whether there will be rain Tomorrow or not based on the predictor variables"
   ]
  },
  {
   "cell_type": "code",
   "execution_count": 11,
   "metadata": {},
   "outputs": [
    {
     "name": "stdout",
     "output_type": "stream",
     "text": [
      "root\n",
      " |-- MinTemp: string (nullable = true)\n",
      " |-- MaxTemp: string (nullable = true)\n",
      " |-- Rainfall: string (nullable = true)\n",
      " |-- WindGustDir: string (nullable = true)\n",
      " |-- WindGustSpeed: string (nullable = true)\n",
      " |-- WindDir9am: string (nullable = true)\n",
      " |-- WindDir3pm: string (nullable = true)\n",
      " |-- WindSpeed9am: string (nullable = true)\n",
      " |-- WindSpeed3pm: string (nullable = true)\n",
      " |-- Humidity9am: string (nullable = true)\n",
      " |-- Humidity3pm: string (nullable = true)\n",
      " |-- Pressure9am: string (nullable = true)\n",
      " |-- Pressure3pm: string (nullable = true)\n",
      " |-- RainToday: string (nullable = true)\n",
      " |-- RainTomorrow: string (nullable = true)\n",
      "\n"
     ]
    }
   ],
   "source": [
    "weather_data.printSchema()"
   ]
  },
  {
   "cell_type": "markdown",
   "metadata": {},
   "source": [
    "# Step 04: Print the number of missing data in each column."
   ]
  },
  {
   "cell_type": "code",
   "execution_count": 12,
   "metadata": {
    "scrolled": true
   },
   "outputs": [
    {
     "name": "stdout",
     "output_type": "stream",
     "text": [
      "+-------+-------+--------+-----------+-------------+----------+----------+------------+------------+-----------+-----------+-----------+-----------+---------+------------+\n",
      "|MinTemp|MaxTemp|Rainfall|WindGustDir|WindGustSpeed|WindDir9am|WindDir3pm|WindSpeed9am|WindSpeed3pm|Humidity9am|Humidity3pm|Pressure9am|Pressure3pm|RainToday|RainTomorrow|\n",
      "+-------+-------+--------+-----------+-------------+----------+----------+------------+------------+-----------+-----------+-----------+-----------+---------+------------+\n",
      "|   13.4|   22.9|     0.6|          W|           44|         W|       WNW|          20|          24|         71|         22|     1007.7|     1007.1|       No|          No|\n",
      "|    7.4|   25.1|       0|        WNW|           44|       NNW|       WSW|           4|          22|         44|         25|     1010.6|     1007.8|       No|          No|\n",
      "|   12.9|   25.7|       0|        WSW|           46|         W|       WSW|          19|          26|         38|         30|     1007.6|     1008.7|       No|          No|\n",
      "|    9.2|     28|       0|         NE|           24|        SE|         E|          11|           9|         45|         16|     1017.6|     1012.8|       No|          No|\n",
      "|   17.5|   32.3|       1|          W|           41|       ENE|        NW|           7|          20|         82|         33|     1010.8|       1006|       No|          No|\n",
      "|   14.6|   29.7|     0.2|        WNW|           56|         W|         W|          19|          24|         55|         23|     1009.2|     1005.4|       No|          No|\n",
      "|   14.3|     25|       0|          W|           50|        SW|         W|          20|          24|         49|         19|     1009.6|     1008.2|       No|          No|\n",
      "|    7.7|   26.7|       0|          W|           35|       SSE|         W|           6|          17|         48|         19|     1013.4|     1010.1|       No|          No|\n",
      "|    9.7|   31.9|       0|        NNW|           80|        SE|        NW|           7|          28|         42|          9|     1008.9|     1003.6|       No|         Yes|\n",
      "|   13.1|   30.1|     1.4|          W|           28|         S|       SSE|          15|          11|         58|         27|       1007|     1005.7|      Yes|          No|\n",
      "|   13.4|   30.4|       0|          N|           30|       SSE|       ESE|          17|           6|         48|         22|     1011.8|     1008.7|       No|         Yes|\n",
      "|   15.9|   21.7|     2.2|        NNE|           31|        NE|       ENE|          15|          13|         89|         91|     1010.5|     1004.2|      Yes|         Yes|\n",
      "|   15.9|   18.6|    15.6|          W|           61|       NNW|       NNW|          28|          28|         76|         93|      994.3|        993|      Yes|         Yes|\n",
      "|   12.6|     21|     3.6|         SW|           44|         W|       SSW|          24|          20|         65|         43|     1001.2|     1001.8|      Yes|          No|\n",
      "|    9.8|   27.7|      NA|        WNW|           50|        NA|       WNW|          NA|          22|         50|         28|     1013.4|     1010.3|       NA|          No|\n",
      "|   14.1|   20.9|       0|        ENE|           22|       SSW|         E|          11|           9|         69|         82|     1012.2|     1010.4|       No|         Yes|\n",
      "|   13.5|   22.9|    16.8|          W|           63|         N|       WNW|           6|          20|         80|         65|     1005.8|     1002.2|      Yes|         Yes|\n",
      "|   11.2|   22.5|    10.6|        SSE|           43|       WSW|        SW|          24|          17|         47|         32|     1009.4|     1009.7|      Yes|          No|\n",
      "|    9.8|   25.6|       0|        SSE|           26|        SE|       NNW|          17|           6|         45|         26|     1019.2|     1017.1|       No|          No|\n",
      "|   11.5|   29.3|       0|          S|           24|        SE|        SE|           9|           9|         56|         28|     1019.3|     1014.8|       No|          No|\n",
      "+-------+-------+--------+-----------+-------------+----------+----------+------------+------------+-----------+-----------+-----------+-----------+---------+------------+\n",
      "only showing top 20 rows\n",
      "\n"
     ]
    }
   ],
   "source": [
    "weather_data.show(20)"
   ]
  },
  {
   "cell_type": "code",
   "execution_count": 13,
   "metadata": {
    "scrolled": true
   },
   "outputs": [
    {
     "name": "stdout",
     "output_type": "stream",
     "text": [
      "+-------+-------+--------+-----------+-------------+----------+----------+------------+------------+-----------+-----------+-----------+-----------+---------+------------+\n",
      "|MinTemp|MaxTemp|Rainfall|WindGustDir|WindGustSpeed|WindDir9am|WindDir3pm|WindSpeed9am|WindSpeed3pm|Humidity9am|Humidity3pm|Pressure9am|Pressure3pm|RainToday|RainTomorrow|\n",
      "+-------+-------+--------+-----------+-------------+----------+----------+------------+------------+-----------+-----------+-----------+-----------+---------+------------+\n",
      "|     NA|   18.8|      NA|          N|           31|        SE|       NNE|           7|          19|         83|         46|     1022.2|     1018.2|       NA|          No|\n",
      "|     NA|   31.2|      NA|        ESE|           31|       SSE|       SSW|           7|           7|         33|         24|     1020.4|     1019.1|       NA|          No|\n",
      "|     NA|   26.3|      NA|         NE|           26|        SE|         E|           9|          13|         70|         62|     1019.4|     1018.3|       NA|         Yes|\n",
      "|     NA|   22.3|       0|         NE|           37|        NE|        NE|          24|          17|         74|         93|     1008.8|     1006.6|       No|         Yes|\n",
      "|     NA|   11.8|      NA|        WSW|           28|         N|       WNW|           2|          19|         97|         65|     1019.5|     1018.3|       NA|          No|\n",
      "+-------+-------+--------+-----------+-------------+----------+----------+------------+------------+-----------+-----------+-----------+-----------+---------+------------+\n",
      "only showing top 5 rows\n",
      "\n"
     ]
    }
   ],
   "source": [
    "weather_data.where(col('MinTemp').like(\"%N%\")).show(5)"
   ]
  },
  {
   "cell_type": "markdown",
   "metadata": {},
   "source": [
    "#### `filter():`\n",
    "\n",
    "Filter the rows of a DataFrame according to a given condition."
   ]
  },
  {
   "cell_type": "markdown",
   "metadata": {},
   "source": [
    "As we have verified on the column cell what is the represenation of NULL value in the column. From that we have found that in all the columns we are having null value in the form of `\"NA\"`\n",
    "\n",
    "As we can see from the dataframe we are having the null values in the columns as specified as \"NA\"\n",
    "\n",
    "We are counting the number of null values in each column, so we are counting the number of NA in each column."
   ]
  },
  {
   "cell_type": "code",
   "execution_count": 14,
   "metadata": {},
   "outputs": [
    {
     "name": "stdout",
     "output_type": "stream",
     "text": [
      "Count of NA(NUll) Values in each column\n",
      "MinTemp  :  637\n",
      "MaxTemp  :  322\n",
      "Rainfall  :  1406\n",
      "WindGustDir  :  9330\n",
      "WindGustSpeed  :  9270\n",
      "WindDir9am  :  10013\n",
      "WindDir3pm  :  3778\n",
      "WindSpeed9am  :  1348\n",
      "WindSpeed3pm  :  2630\n",
      "Humidity9am  :  1774\n",
      "Humidity3pm  :  3610\n",
      "Pressure9am  :  14014\n",
      "Pressure3pm  :  13981\n",
      "RainToday  :  1406\n",
      "RainTomorrow  :  0\n"
     ]
    }
   ],
   "source": [
    "print(\"Count of NA(NUll) Values in each column\")\n",
    "#Loop to iterate through each of the column \n",
    "for c in weather_data.columns:\n",
    "    # printing the count of NA in each column \n",
    "    # filtering the column with the value given as NA since the column are of string type.\n",
    "    print(c,\" : \",weather_data.filter((weather_data[c] == \"NA\")).count())\n",
    "    "
   ]
  },
  {
   "cell_type": "markdown",
   "metadata": {},
   "source": [
    "# Step 05: Fill the missing data with average value and maximum occurrence value."
   ]
  },
  {
   "cell_type": "code",
   "execution_count": 15,
   "metadata": {},
   "outputs": [
    {
     "name": "stdout",
     "output_type": "stream",
     "text": [
      "+-------+-------+--------+-----------+-------------+----------+----------+------------+------------+-----------+-----------+-----------+-----------+---------+------------+\n",
      "|MinTemp|MaxTemp|Rainfall|WindGustDir|WindGustSpeed|WindDir9am|WindDir3pm|WindSpeed9am|WindSpeed3pm|Humidity9am|Humidity3pm|Pressure9am|Pressure3pm|RainToday|RainTomorrow|\n",
      "+-------+-------+--------+-----------+-------------+----------+----------+------------+------------+-----------+-----------+-----------+-----------+---------+------------+\n",
      "|   13.4|   22.9|     0.6|          W|           44|         W|       WNW|          20|          24|         71|         22|     1007.7|     1007.1|       No|          No|\n",
      "|    7.4|   25.1|       0|        WNW|           44|       NNW|       WSW|           4|          22|         44|         25|     1010.6|     1007.8|       No|          No|\n",
      "|   12.9|   25.7|       0|        WSW|           46|         W|       WSW|          19|          26|         38|         30|     1007.6|     1008.7|       No|          No|\n",
      "|    9.2|     28|       0|         NE|           24|        SE|         E|          11|           9|         45|         16|     1017.6|     1012.8|       No|          No|\n",
      "|   17.5|   32.3|       1|          W|           41|       ENE|        NW|           7|          20|         82|         33|     1010.8|       1006|       No|          No|\n",
      "+-------+-------+--------+-----------+-------------+----------+----------+------------+------------+-----------+-----------+-----------+-----------+---------+------------+\n",
      "only showing top 5 rows\n",
      "\n"
     ]
    }
   ],
   "source": [
    "weather_data.show(5)"
   ]
  },
  {
   "cell_type": "markdown",
   "metadata": {},
   "source": [
    "###### Identifying the Numeric and Non Numeric columns from the Dataframe:\n",
    "\n",
    "As we can clearly observe from the dataframe what kind of data is in the dataframe based on that we are considered what kind is each column in the dataframe:\n",
    "\n",
    "#### ` Numeric Columns:`\n",
    "\n",
    "- MinTemp\n",
    "- MaxTemp\n",
    "- Rainfall\n",
    "- WindGustSpeed\n",
    "- WindSpeed9am\n",
    "- WindSpeed3pm\n",
    "- Humidity9am\n",
    "- Humidity3pm\n",
    "- Pressure9am\n",
    "- Pressure3pm\n",
    "\n",
    "#### ` Non Numeric Columns:`\n",
    "\n",
    "- WindGustDir\n",
    "- WindDir9am\n",
    "- WindDir3pm\n",
    "- RainToday\n",
    "- RainTomorrow\n"
   ]
  },
  {
   "cell_type": "markdown",
   "metadata": {},
   "source": [
    "#### Replacing the NA values(Null values) with the average (mean) value, for the numeric column\n",
    "#### Replacing the NA values(Null values) with the Maximum Occurence for the string column (Non - Numeric column)"
   ]
  },
  {
   "cell_type": "markdown",
   "metadata": {},
   "source": [
    "Algorithm used:\n",
    "    \n",
    "1. Iterating through the columns in the dataframe\n",
    "2. Checking whether the column is in set of columns which are non numeric columns\n",
    "\n",
    "    2.1 if column is not non numeric, then we are finding the mean of that particular column \n",
    "    \n",
    "    mean = sum of all observations/ total number of observations\n",
    "                \n",
    "    2.1.1 After finding the mean of the Numeric column then we are finding NA row in the column and replacing      with the mean, otherwie will be keeping the same value in the colum.\n",
    "        \n",
    "3. Checking the column is Non Numeric column from the set, if the column is in the set\n",
    "\n",
    "    3.1 We are finding the high frequency word in the column and replacing the NA row of the column with the high frequency word of the column.\n",
    "    \n",
    "    3.2 first we have selected all strings of column into list , we are finding the frequency using reduceByKey() function.\n",
    "    \n",
    "    3.3 Then replacing the column value .\n",
    "    \n",
    "4. Returning the data frame after performing the actions"
   ]
  },
  {
   "cell_type": "markdown",
   "metadata": {},
   "source": [
    "`when()` : sql function is used to replace the column value when the condition value is true, if not we will be using the same value of teh column using otherwise()"
   ]
  },
  {
   "cell_type": "markdown",
   "metadata": {},
   "source": [
    "##### Function for replacing the NA values in the column "
   ]
  },
  {
   "cell_type": "code",
   "execution_count": 16,
   "metadata": {},
   "outputs": [],
   "source": [
    "# Importing the when and mean functions from sql.functions \n",
    "from pyspark.sql.functions import when,mean\n",
    "# created the function to replace the NA values in the column\n",
    "# function takes the argument dataframe, string type column names \n",
    "def impute_NA_values(weather_data, exclude):\n",
    "    # now we are iterating through the each column \n",
    "    for c in weather_data.columns:\n",
    "        # now checking whether it is the string column or not, if not then will proceed \n",
    "        if c not in exclude:\n",
    "            #now we are finding the average of the column values and stored as a list\n",
    "            m = weather_data.select(mean(c).alias('avg')).collect()\n",
    "            #now getting the mean value of the column, as it is in the key value pair in the list we are extracting\n",
    "            # based on indices.\n",
    "            l = [row['avg'] for row in m][0]\n",
    "            # replacing the NA values in the column with the mean of the column other wise we are leaving the column\n",
    "            # value as it is\n",
    "            print(\"Mean of the column \",c,\" : \",l)\n",
    "            weather_data = weather_data.withColumn(c,when(weather_data[c] == \"NA\", l).otherwise(weather_data[c]))\n",
    "        # now checking the column with string type \n",
    "        if c in exclude:\n",
    "            # select the values of the column and converting it to the RDD \n",
    "            words = weather_data.select(weather_data[c].alias(\"words\")).rdd\n",
    "            # we are counting the frequency of each word in the RDD\n",
    "            s = words.map(lambda x: (x, 1)).reduceByKey(lambda x, y: x + y)\n",
    "            # we are arranging in the descending order and taking the top one \n",
    "            s1 = s.takeOrdered(1, key = lambda x: -x[1])[0][0][0]\n",
    "            print(\"High Frequency word in column \",c,\" : \",s1)\n",
    "            # now replacing the column with NA values with the high frequency word \n",
    "            weather_data = weather_data.withColumn(c,when(weather_data[c] == \"NA\", s1).otherwise(weather_data[c]))\n",
    "    # return the weather_data data frame \n",
    "    return(weather_data)"
   ]
  },
  {
   "cell_type": "markdown",
   "metadata": {},
   "source": [
    "#### Function Call to fill with mean and frequency\n",
    "\n",
    "As we are selecting the columns with String and passing it to the function, so that we can sepearate the numeric and Numeric column in the function "
   ]
  },
  {
   "cell_type": "code",
   "execution_count": 17,
   "metadata": {},
   "outputs": [
    {
     "name": "stdout",
     "output_type": "stream",
     "text": [
      " Mean of the Numeric Column and High frequency word of the Non Numeric Column\n",
      "Mean of the column  MinTemp  :  12.186399728729311\n",
      "Mean of the column  MaxTemp  :  23.2267841912725\n",
      "Mean of the column  Rainfall  :  2.3499740743107442\n",
      "High Frequency word in column  WindGustDir  :  W\n",
      "Mean of the column  WindGustSpeed  :  39.98429165757619\n",
      "High Frequency word in column  WindDir9am  :  N\n",
      "High Frequency word in column  WindDir3pm  :  SE\n",
      "Mean of the column  WindSpeed9am  :  14.001988000994\n",
      "Mean of the column  WindSpeed3pm  :  18.63757586179718\n",
      "Mean of the column  Humidity9am  :  68.8438103105705\n",
      "Mean of the column  Humidity3pm  :  51.482606091656265\n",
      "Mean of the column  Pressure9am  :  1017.6537584159615\n",
      "Mean of the column  Pressure3pm  :  1015.2582035378894\n",
      "High Frequency word in column  RainToday  :  No\n",
      "High Frequency word in column  RainTomorrow  :  No\n"
     ]
    }
   ],
   "source": [
    "# returns the dataframe from the function\n",
    "# now calling the function with parameters dataframe and columns with the string type\n",
    "print(\" Mean of the Numeric Column and High frequency word of the Non Numeric Column\")\n",
    "weather_data = impute_NA_values(weather_data, [\"WindGustDir\", \"WindDir9am\",\"WindDir3pm\",\"RainToday\",\"RainTomorrow\"])"
   ]
  },
  {
   "cell_type": "markdown",
   "metadata": {},
   "source": [
    "We are printing out again how many no of null values in the column \n",
    "\n",
    "Checking whether count is equal to 0"
   ]
  },
  {
   "cell_type": "code",
   "execution_count": 18,
   "metadata": {},
   "outputs": [
    {
     "name": "stdout",
     "output_type": "stream",
     "text": [
      "Count of NA(NUll) Values in each column\n",
      "MinTemp  :  0\n",
      "MaxTemp  :  0\n",
      "Rainfall  :  0\n",
      "WindGustDir  :  0\n",
      "WindGustSpeed  :  0\n",
      "WindDir9am  :  0\n",
      "WindDir3pm  :  0\n",
      "WindSpeed9am  :  0\n",
      "WindSpeed3pm  :  0\n",
      "Humidity9am  :  0\n",
      "Humidity3pm  :  0\n",
      "Pressure9am  :  0\n",
      "Pressure3pm  :  0\n",
      "RainToday  :  0\n",
      "RainTomorrow  :  0\n"
     ]
    }
   ],
   "source": [
    "print(\"Count of NA(NUll) Values in each column\")\n",
    "#Loop to iterate through each of the column \n",
    "for c in weather_data.columns:\n",
    "    # printing the count of NA in each column \n",
    "    print(c,\" : \",weather_data.filter((weather_data[c] == \"NA\")).count())\n",
    "    "
   ]
  },
  {
   "cell_type": "markdown",
   "metadata": {},
   "source": [
    "As we can see that we have replaced all the NA values of the column, since count of NA is 0"
   ]
  },
  {
   "cell_type": "code",
   "execution_count": 19,
   "metadata": {},
   "outputs": [
    {
     "name": "stdout",
     "output_type": "stream",
     "text": [
      "root\n",
      " |-- MinTemp: string (nullable = true)\n",
      " |-- MaxTemp: string (nullable = true)\n",
      " |-- Rainfall: string (nullable = true)\n",
      " |-- WindGustDir: string (nullable = true)\n",
      " |-- WindGustSpeed: string (nullable = true)\n",
      " |-- WindDir9am: string (nullable = true)\n",
      " |-- WindDir3pm: string (nullable = true)\n",
      " |-- WindSpeed9am: string (nullable = true)\n",
      " |-- WindSpeed3pm: string (nullable = true)\n",
      " |-- Humidity9am: string (nullable = true)\n",
      " |-- Humidity3pm: string (nullable = true)\n",
      " |-- Pressure9am: string (nullable = true)\n",
      " |-- Pressure3pm: string (nullable = true)\n",
      " |-- RainToday: string (nullable = true)\n",
      " |-- RainTomorrow: string (nullable = true)\n",
      "\n"
     ]
    }
   ],
   "source": [
    "weather_data.printSchema()"
   ]
  },
  {
   "cell_type": "markdown",
   "metadata": {},
   "source": [
    "Steps Performed till now:\n",
    "    \n",
    "- we have removed the few columns from the dataframe\n",
    "- Replaced the NA vlue in the column with the mean and High frequecy of the columns \n",
    "\n",
    "Now we can apply tranformations on the data"
   ]
  },
  {
   "cell_type": "markdown",
   "metadata": {},
   "source": [
    "# Step 06: Data transformation"
   ]
  },
  {
   "cell_type": "markdown",
   "metadata": {},
   "source": [
    "## Transformers\n",
    "A **Transformer** is an abstraction which includes feature transformers and learned models.  Technically, a Transformer implements a method ``transform()`` which converts one  ``SchemaRDD`` into another, generally by appending one or more columns. For example:\n",
    "- A feature transformer might take a dataset, read a column (e.g., text), convert it into a new column (e.g., feature vectors), append the new column to the dataset, and output the updated dataset.\n",
    "- A learning model might take a dataset, read the column containing feature vectors, predict the label for each feature vector, append the labels as a new column, and output the updated dataset.\n"
   ]
  },
  {
   "cell_type": "markdown",
   "metadata": {},
   "source": [
    "### Extractors\n",
    "\n",
    "> - Numeric columns: For numeric features, the hash value of the column name is used to map the feature value to its index in the feature vector. By default, numeric features are not treated as categorical (even when they are integers). To treat them as categorical, you can specify the relevant columns using the `categoricalCols` parameter.\n",
    "- String columns: For categorical features, the hash value of the string “column_name=value” is used to map to the vector index, with an indicator value of 1.0. \n",
    "- Boolean columns: Boolean values are treated in the same way as string columns. That is, boolean features are represented as “column_name=true” or “column_name=false”, with an indicator value of 1.0."
   ]
  },
  {
   "cell_type": "markdown",
   "metadata": {},
   "source": [
    "## Pipeline\n",
    "In machine learning, it is common to run a sequence of algorithms to process and learn from data. E.g., a simple text document processing workflow might include several stages:\n",
    "\n",
    "- Split each document’s text into words.\n",
    "- Convert each document’s words into a numerical feature vector.\n",
    "- Learn a prediction model using the feature vectors and labels.\n",
    "\n",
    "Spark ML represents such a workflow as a Pipeline, which consists of a sequence of PipelineStages (Transformers and Estimators) to be run in a specific order. We will use this simple workflow as a running example in this section.\n"
   ]
  },
  {
   "cell_type": "markdown",
   "metadata": {},
   "source": [
    "### Identifying the numerical columns and String type columns \n",
    "\n",
    "So that we can create separate list of these columns and then we can perform transformations on the data"
   ]
  },
  {
   "cell_type": "code",
   "execution_count": 20,
   "metadata": {},
   "outputs": [],
   "source": [
    "# list of columns with the Numeric type of data, wher we will be type casting it to the double type \n",
    "numericCols = [\"MinTemp\",\"MaxTemp\",\"Rainfall\",\"WindGustSpeed\",\"WindSpeed9am\",\"WindSpeed3pm\",\"Humidity9am\",\n",
    "               \"Humidity3pm\",\"Pressure9am\",\"Pressure3pm\"]\n",
    "# list of columns with the Non Numeric type of data where we can transform the data to the StringIndexes \n",
    "string_cols = [\"WindGustDir\", \"WindDir9am\",\"WindDir3pm\",\"RainToday\"]\n",
    "# we have list as traget cols as it holds the target cell \n",
    "target_cols = [\"RainTomorrow\"]"
   ]
  },
  {
   "cell_type": "markdown",
   "metadata": {},
   "source": [
    "### Typecasting numerical columns to double "
   ]
  },
  {
   "cell_type": "code",
   "execution_count": 21,
   "metadata": {},
   "outputs": [],
   "source": [
    "# Iterating trough the columns in the numericCols and we are typecasting it to the double \n",
    "for c in numericCols:\n",
    "    # as we are transforming the data type of the column and we are assigning back to the column\n",
    "    weather_data = weather_data.withColumn(c, weather_data[c].cast(\"double\"))"
   ]
  },
  {
   "cell_type": "code",
   "execution_count": 22,
   "metadata": {},
   "outputs": [
    {
     "name": "stdout",
     "output_type": "stream",
     "text": [
      "root\n",
      " |-- MinTemp: double (nullable = true)\n",
      " |-- MaxTemp: double (nullable = true)\n",
      " |-- Rainfall: double (nullable = true)\n",
      " |-- WindGustDir: string (nullable = true)\n",
      " |-- WindGustSpeed: double (nullable = true)\n",
      " |-- WindDir9am: string (nullable = true)\n",
      " |-- WindDir3pm: string (nullable = true)\n",
      " |-- WindSpeed9am: double (nullable = true)\n",
      " |-- WindSpeed3pm: double (nullable = true)\n",
      " |-- Humidity9am: double (nullable = true)\n",
      " |-- Humidity3pm: double (nullable = true)\n",
      " |-- Pressure9am: double (nullable = true)\n",
      " |-- Pressure3pm: double (nullable = true)\n",
      " |-- RainToday: string (nullable = true)\n",
      " |-- RainTomorrow: string (nullable = true)\n",
      "\n"
     ]
    }
   ],
   "source": [
    "weather_data.printSchema()"
   ]
  },
  {
   "cell_type": "markdown",
   "metadata": {},
   "source": [
    "We can see that data type of the NumericCols has been changed from the String to the Double"
   ]
  },
  {
   "cell_type": "markdown",
   "metadata": {},
   "source": [
    "### Converting the String type of data to String Indexes"
   ]
  },
  {
   "cell_type": "markdown",
   "metadata": {},
   "source": [
    "indexers is the list which holds all the IDS of string indexes which are converting"
   ]
  },
  {
   "cell_type": "code",
   "execution_count": 23,
   "metadata": {},
   "outputs": [],
   "source": [
    "#String columns other than the Target Column to the String Indexers \n",
    "indexers = [StringIndexer(inputCol=column, outputCol=column+\"_index\").fit(weather_data).setHandleInvalid(\"skip\")\\\n",
    "            for column in list(set(string_cols))]\n",
    "#Converting the target column to the String Indexers and labeling the output column as label  \n",
    "label_stringIdx = StringIndexer(inputCol = 'RainTomorrow', outputCol = 'label')\n",
    "# Adding the Label String Index to the list of string indexes \n",
    "indexers += [label_stringIdx]"
   ]
  },
  {
   "cell_type": "markdown",
   "metadata": {},
   "source": [
    "# Step 07: Create the feature vector and divide the dataset"
   ]
  },
  {
   "cell_type": "markdown",
   "metadata": {},
   "source": [
    "Creating the feture vector of numeric cols and stringIndexer columns, since feature vector holds the Numetic data"
   ]
  },
  {
   "cell_type": "code",
   "execution_count": 24,
   "metadata": {
    "scrolled": true
   },
   "outputs": [],
   "source": [
    "# creating the list of all the columns except the Target variable column \n",
    "assemblerInputs = [c + \"_index\" for c in string_cols] + numericCols\n",
    "# now converting the columns to the Feature vector \n",
    "assembler = VectorAssembler(inputCols = assemblerInputs, outputCol=\"features\")\n",
    "# adding the feature vector variable to the indexers list, to pass it to the pipeline \n",
    "indexers += [assembler]"
   ]
  },
  {
   "cell_type": "markdown",
   "metadata": {},
   "source": [
    "### Passing list to the pipeline "
   ]
  },
  {
   "cell_type": "code",
   "execution_count": 25,
   "metadata": {},
   "outputs": [],
   "source": [
    "pipeline = Pipeline(stages=indexers)"
   ]
  },
  {
   "cell_type": "code",
   "execution_count": 26,
   "metadata": {},
   "outputs": [
    {
     "name": "stdout",
     "output_type": "stream",
     "text": [
      "root\n",
      " |-- MinTemp: double (nullable = true)\n",
      " |-- MaxTemp: double (nullable = true)\n",
      " |-- Rainfall: double (nullable = true)\n",
      " |-- WindGustDir: string (nullable = true)\n",
      " |-- WindGustSpeed: double (nullable = true)\n",
      " |-- WindDir9am: string (nullable = true)\n",
      " |-- WindDir3pm: string (nullable = true)\n",
      " |-- WindSpeed9am: double (nullable = true)\n",
      " |-- WindSpeed3pm: double (nullable = true)\n",
      " |-- Humidity9am: double (nullable = true)\n",
      " |-- Humidity3pm: double (nullable = true)\n",
      " |-- Pressure9am: double (nullable = true)\n",
      " |-- Pressure3pm: double (nullable = true)\n",
      " |-- RainToday: string (nullable = true)\n",
      " |-- RainTomorrow: string (nullable = true)\n",
      " |-- WindGustDir_index: double (nullable = false)\n",
      " |-- RainToday_index: double (nullable = false)\n",
      " |-- WindDir9am_index: double (nullable = false)\n",
      " |-- WindDir3pm_index: double (nullable = false)\n",
      " |-- label: double (nullable = false)\n",
      " |-- features: vector (nullable = true)\n",
      "\n"
     ]
    }
   ],
   "source": [
    "dataset = pipeline.fit(weather_data).transform(weather_data)\n",
    "dataset.printSchema()"
   ]
  },
  {
   "cell_type": "code",
   "execution_count": 27,
   "metadata": {},
   "outputs": [
    {
     "name": "stdout",
     "output_type": "stream",
     "text": [
      "+-------+-------+--------+-----------+-------------+----------+----------+------------+------------+-----------+-----------+-----------+-----------+---------+------------+-----------------+---------------+----------------+----------------+-----+--------------------+\n",
      "|MinTemp|MaxTemp|Rainfall|WindGustDir|WindGustSpeed|WindDir9am|WindDir3pm|WindSpeed9am|WindSpeed3pm|Humidity9am|Humidity3pm|Pressure9am|Pressure3pm|RainToday|RainTomorrow|WindGustDir_index|RainToday_index|WindDir9am_index|WindDir3pm_index|label|            features|\n",
      "+-------+-------+--------+-----------+-------------+----------+----------+------------+------------+-----------+-----------+-----------+-----------+---------+------------+-----------------+---------------+----------------+----------------+-----+--------------------+\n",
      "|   13.4|   22.9|     0.6|          W|         44.0|         W|       WNW|        20.0|        24.0|       71.0|       22.0|     1007.7|     1007.1|       No|          No|              0.0|            0.0|             6.0|             7.0|  0.0|[0.0,6.0,7.0,0.0,...|\n",
      "|    7.4|   25.1|     0.0|        WNW|         44.0|       NNW|       WSW|         4.0|        22.0|       44.0|       25.0|     1010.6|     1007.8|       No|          No|              9.0|            0.0|             9.0|             3.0|  0.0|[9.0,9.0,3.0,0.0,...|\n",
      "|   12.9|   25.7|     0.0|        WSW|         46.0|         W|       WSW|        19.0|        26.0|       38.0|       30.0|     1007.6|     1008.7|       No|          No|              6.0|            0.0|             6.0|             3.0|  0.0|[6.0,6.0,3.0,0.0,...|\n",
      "|    9.2|   28.0|     0.0|         NE|         24.0|        SE|         E|        11.0|         9.0|       45.0|       16.0|     1017.6|     1012.8|       No|          No|             13.0|            0.0|             1.0|            10.0|  0.0|[13.0,1.0,10.0,0....|\n",
      "|   17.5|   32.3|     1.0|          W|         41.0|       ENE|        NW|         7.0|        20.0|       82.0|       33.0|     1010.8|     1006.0|       No|          No|              0.0|            0.0|            10.0|             8.0|  0.0|[0.0,10.0,8.0,0.0...|\n",
      "+-------+-------+--------+-----------+-------------+----------+----------+------------+------------+-----------+-----------+-----------+-----------+---------+------------+-----------------+---------------+----------------+----------------+-----+--------------------+\n",
      "only showing top 5 rows\n",
      "\n"
     ]
    }
   ],
   "source": [
    "dataset.show(5)"
   ]
  },
  {
   "cell_type": "markdown",
   "metadata": {},
   "source": [
    "#### Creating the dataframe with the columns and the label and feature vector"
   ]
  },
  {
   "cell_type": "code",
   "execution_count": 28,
   "metadata": {},
   "outputs": [
    {
     "name": "stdout",
     "output_type": "stream",
     "text": [
      "root\n",
      " |-- label: double (nullable = false)\n",
      " |-- features: vector (nullable = true)\n",
      " |-- MinTemp: double (nullable = true)\n",
      " |-- MaxTemp: double (nullable = true)\n",
      " |-- Rainfall: double (nullable = true)\n",
      " |-- WindGustDir: string (nullable = true)\n",
      " |-- WindGustSpeed: double (nullable = true)\n",
      " |-- WindDir9am: string (nullable = true)\n",
      " |-- WindDir3pm: string (nullable = true)\n",
      " |-- WindSpeed9am: double (nullable = true)\n",
      " |-- WindSpeed3pm: double (nullable = true)\n",
      " |-- Humidity9am: double (nullable = true)\n",
      " |-- Humidity3pm: double (nullable = true)\n",
      " |-- Pressure9am: double (nullable = true)\n",
      " |-- Pressure3pm: double (nullable = true)\n",
      " |-- RainToday: string (nullable = true)\n",
      " |-- RainTomorrow: string (nullable = true)\n",
      "\n"
     ]
    }
   ],
   "source": [
    "#Choose only label and features to create a dataframe\n",
    "selectedCols = ['label', 'features'] + cols \n",
    "df = dataset.select(selectedCols)\n",
    "df.printSchema()"
   ]
  },
  {
   "cell_type": "code",
   "execution_count": 29,
   "metadata": {},
   "outputs": [
    {
     "name": "stdout",
     "output_type": "stream",
     "text": [
      "+-----+--------------------+-------+-------+--------+-----------+-------------+----------+----------+------------+------------+-----------+-----------+-----------+-----------+---------+------------+\n",
      "|label|            features|MinTemp|MaxTemp|Rainfall|WindGustDir|WindGustSpeed|WindDir9am|WindDir3pm|WindSpeed9am|WindSpeed3pm|Humidity9am|Humidity3pm|Pressure9am|Pressure3pm|RainToday|RainTomorrow|\n",
      "+-----+--------------------+-------+-------+--------+-----------+-------------+----------+----------+------------+------------+-----------+-----------+-----------+-----------+---------+------------+\n",
      "|  0.0|[0.0,6.0,7.0,0.0,...|   13.4|   22.9|     0.6|          W|         44.0|         W|       WNW|        20.0|        24.0|       71.0|       22.0|     1007.7|     1007.1|       No|          No|\n",
      "|  0.0|[9.0,9.0,3.0,0.0,...|    7.4|   25.1|     0.0|        WNW|         44.0|       NNW|       WSW|         4.0|        22.0|       44.0|       25.0|     1010.6|     1007.8|       No|          No|\n",
      "|  0.0|[6.0,6.0,3.0,0.0,...|   12.9|   25.7|     0.0|        WSW|         46.0|         W|       WSW|        19.0|        26.0|       38.0|       30.0|     1007.6|     1008.7|       No|          No|\n",
      "|  0.0|[13.0,1.0,10.0,0....|    9.2|   28.0|     0.0|         NE|         24.0|        SE|         E|        11.0|         9.0|       45.0|       16.0|     1017.6|     1012.8|       No|          No|\n",
      "|  0.0|[0.0,10.0,8.0,0.0...|   17.5|   32.3|     1.0|          W|         41.0|       ENE|        NW|         7.0|        20.0|       82.0|       33.0|     1010.8|     1006.0|       No|          No|\n",
      "+-----+--------------------+-------+-------+--------+-----------+-------------+----------+----------+------------+------------+-----------+-----------+-----------+-----------+---------+------------+\n",
      "only showing top 5 rows\n",
      "\n"
     ]
    }
   ],
   "source": [
    "df.show(5)"
   ]
  },
  {
   "cell_type": "markdown",
   "metadata": {},
   "source": [
    "### Training and Test Data set \n",
    "\n",
    "We are creating the training and testing dataset by the dataset into 70% and 30%\n",
    "\n",
    "70% of training data and 30% of testing data "
   ]
  },
  {
   "cell_type": "code",
   "execution_count": 30,
   "metadata": {},
   "outputs": [
    {
     "name": "stdout",
     "output_type": "stream",
     "text": [
      "Training Dataset Count: 99626\n",
      "Test Dataset Count: 42567\n"
     ]
    }
   ],
   "source": [
    "train, test = df.randomSplit([0.7, 0.3], seed = 2018)\n",
    "print(\"Training Dataset Count: \" + str(train.count()))\n",
    "print(\"Test Dataset Count: \" + str(test.count()))"
   ]
  },
  {
   "cell_type": "markdown",
   "metadata": {},
   "source": [
    "# C. Apply Machine Learning Algorithms"
   ]
  },
  {
   "cell_type": "markdown",
   "metadata": {},
   "source": [
    "### Step 08: Apply machine learning classification algorithms on the dataset and compare their accuracy. Plot the accuracy as bar graph."
   ]
  },
  {
   "cell_type": "markdown",
   "metadata": {},
   "source": [
    "# Logistic Regression\n",
    "\n",
    "*Logistic Regression* is a classification algorithm. It is used to predict a binary outcome (1 / 0, Yes / No, True / False) given a set of independent variables. To represent binary/categorical outcome, we use dummy variables. You can also think of logistic regression as a special case of linear regression when the outcome variable is categorical, where we are using log of odds as dependent variable. In simple words, it predicts the probability of occurrence of an event by fitting data to a logit function.\n"
   ]
  },
  {
   "cell_type": "code",
   "execution_count": 31,
   "metadata": {},
   "outputs": [
    {
     "data": {
      "image/png": "[encoded data removed]",
      "text/plain": [
       "<Figure size 432x288 with 1 Axes>"
      ]
     },
     "metadata": {
      "needs_background": "light"
     },
     "output_type": "display_data"
    }
   ],
   "source": [
    "# Create an initial model using the train set.\n",
    "lr = LogisticRegression(featuresCol = 'features', labelCol = 'label',    maxIter=10)\n",
    "lrModel = lr.fit(train)\n",
    "\n",
    "#LogisticRegressionModel to get the beta coefficient.\n",
    "beta = np.sort(lrModel.coefficients)\n",
    "plt.plot(beta)\n",
    "plt.ylabel('Beta Coefficients')\n",
    "\n",
    "plt.show()\n",
    "plt.close()"
   ]
  },
  {
   "cell_type": "code",
   "execution_count": 32,
   "metadata": {
    "scrolled": true
   },
   "outputs": [
    {
     "name": "stdout",
     "output_type": "stream",
     "text": [
      "+-------+----------+-----------+------------------+---------+-----+--------------------+----------+--------------------+\n",
      "|MinTemp|WindDir9am|Humidity9am|       Pressure9am|RainToday|label|       rawPrediction|prediction|         probability|\n",
      "+-------+----------+-----------+------------------+---------+-----+--------------------+----------+--------------------+\n",
      "|    5.4|         N|       98.0|1017.6537584159615|       No|  0.0|[1.99745907329365...|       0.0|[0.88053003873525...|\n",
      "|    7.9|         N|       99.0|            1023.4|       No|  0.0|[1.00558354824098...|       0.0|[0.73215495353307...|\n",
      "|   -0.1|         N|       99.0|            1019.8|       No|  0.0|[1.78351973034014...|       0.0|[0.85613093740828...|\n",
      "|    3.5|         N|       85.0|1017.6537584159615|       No|  0.0|[2.29491666427921...|       0.0|[0.90845516337906...|\n",
      "|    6.4|         N|       97.0|            1018.9|       No|  0.0|[1.96326095082335...|       0.0|[0.87688542900353...|\n",
      "|    9.0|         N|       99.0|            1022.4|       No|  0.0|[1.62901890095057...|       0.0|[0.83603519371209...|\n",
      "|    7.6|         N|       99.0|            1029.9|       No|  0.0|[1.28010358573178...|       0.0|[0.78246740849048...|\n",
      "|    7.1|         N|       97.0|1017.6537584159615|       No|  0.0|[1.46324136680844...|       0.0|[0.81202793284671...|\n",
      "|   11.7|         N|       79.0|            1018.8|       No|  0.0|[1.31081221988892...|       0.0|[0.78764903791604...|\n",
      "|    0.0|         N|       75.0|            1025.4|       No|  0.0|[2.05547263863175...|       0.0|[0.88649943151239...|\n",
      "+-------+----------+-----------+------------------+---------+-----+--------------------+----------+--------------------+\n",
      "only showing top 10 rows\n",
      "\n",
      "Test Area Under ROC 0.8128918210724079\n"
     ]
    }
   ],
   "source": [
    "# LogicRegression.transform() is a method that uses only 'features'.\n",
    "lr_predictions = lrModel.transform(test)\n",
    "\n",
    "#At this point, you can select a column for the schema to view the forecasts.\n",
    "lr_predictions.select('MinTemp', 'WindDir9am','Humidity9am','Pressure9am','RainToday', 'label', 'rawPrediction', 'prediction', 'probability').show(10)\n",
    "\n",
    "# The BinaryClassificationEvaluator is used to evaluate the model.\n",
    "evaluator = BinaryClassificationEvaluator()\n",
    "lr_accuracy = evaluator.evaluate(lr_predictions)\n",
    "print('Test Area Under ROC', evaluator.evaluate(lr_predictions))"
   ]
  },
  {
   "cell_type": "markdown",
   "metadata": {},
   "source": [
    "## Decision Tree Classifier Implementation\n",
    "Decision tree algorithms are said to be widely used because they process categorical data and are readily available in classification tasks by multiple classes.\n",
    "\n",
    "\n",
    "A *decision tree* is a decision support tool that uses a tree-like graph or model of decisions and their possible consequences, including chance event outcomes, resource costs, and utility.\n",
    "\n"
   ]
  },
  {
   "cell_type": "code",
   "execution_count": 33,
   "metadata": {},
   "outputs": [
    {
     "name": "stdout",
     "output_type": "stream",
     "text": [
      "+-------+----------+-----------+------------------+---------+-----+-------------+----------+-----------+\n",
      "|MinTemp|WindDir9am|Humidity9am|       Pressure9am|RainToday|label|rawPrediction|prediction|probability|\n",
      "+-------+----------+-----------+------------------+---------+-----+-------------+----------+-----------+\n",
      "|    5.4|         N|       98.0|1017.6537584159615|       No|  0.0|  [124.0,0.0]|       0.0|  [1.0,0.0]|\n",
      "|    7.9|         N|       99.0|            1023.4|       No|  0.0|   [17.0,0.0]|       0.0|  [1.0,0.0]|\n",
      "|   -0.1|         N|       99.0|            1019.8|       No|  0.0|  [152.0,0.0]|       0.0|  [1.0,0.0]|\n",
      "|    3.5|         N|       85.0|1017.6537584159615|       No|  0.0|  [124.0,0.0]|       0.0|  [1.0,0.0]|\n",
      "|    6.4|         N|       97.0|            1018.9|       No|  0.0|   [61.0,0.0]|       0.0|  [1.0,0.0]|\n",
      "|    9.0|         N|       99.0|            1022.4|       No|  0.0|    [4.0,0.0]|       0.0|  [1.0,0.0]|\n",
      "|    7.6|         N|       99.0|            1029.9|       No|  0.0|  [142.0,0.0]|       0.0|  [1.0,0.0]|\n",
      "|    7.1|         N|       97.0|1017.6537584159615|       No|  0.0|   [82.0,0.0]|       0.0|  [1.0,0.0]|\n",
      "|   11.7|         N|       79.0|            1018.8|       No|  0.0|    [8.0,0.0]|       0.0|  [1.0,0.0]|\n",
      "|    0.0|         N|       75.0|            1025.4|       No|  0.0|  [271.0,0.0]|       0.0|  [1.0,0.0]|\n",
      "+-------+----------+-----------+------------------+---------+-----+-------------+----------+-----------+\n",
      "only showing top 10 rows\n",
      "\n"
     ]
    }
   ],
   "source": [
    "# Extracts the number of nodes in the decision tree and the tree depth in the model and stores it in dt.\n",
    "dt = DecisionTreeClassifier(featuresCol = 'features', labelCol = 'label', maxDepth = 25)\n",
    "dtModel = dt.fit(train)\n",
    "\n",
    "#Use the  Transformer.transform() method to predict test data\n",
    "dt_predictions = dtModel.transform(test)\n",
    "\n",
    "#Provisions and probabilities for each selected forecasting class\n",
    "dt_predictions.select('MinTemp', 'WindDir9am','Humidity9am','Pressure9am','RainToday','label','rawPrediction', 'prediction', 'probability').show(10)\n"
   ]
  },
  {
   "cell_type": "code",
   "execution_count": 34,
   "metadata": {},
   "outputs": [
    {
     "name": "stdout",
     "output_type": "stream",
     "text": [
      "Test Area Under ROC: 0.7124044216120095\n"
     ]
    }
   ],
   "source": [
    "evaluator = BinaryClassificationEvaluator()\n",
    "binary_accuracy = evaluator.evaluate(dt_predictions)\n",
    "print(\"Test Area Under ROC: \" + str(evaluator.evaluate(dt_predictions, {evaluator.metricName: \"areaUnderROC\"})))"
   ]
  },
  {
   "cell_type": "markdown",
   "metadata": {},
   "source": [
    " ## Implementing the Gradient-Boosted Tree Classifier\n",
    " \n",
    "*Boosting* means combining simple and weak learners to create more accurate and powerful ones. Even if the accuracy is low, once the model is created, the weaknesses (forecasting errors) are complemented by the second model. Because when these two are combined, the exact model is created rather than the first, and the problem that remains is the principle of iterating the process of supplementing and adding to the next model.\n"
   ]
  },
  {
   "cell_type": "code",
   "execution_count": 35,
   "metadata": {
    "scrolled": true
   },
   "outputs": [
    {
     "name": "stdout",
     "output_type": "stream",
     "text": [
      "+-------+----------+-----------+------------------+---------+-----+--------------------+----------+--------------------+\n",
      "|MinTemp|WindDir9am|Humidity9am|       Pressure9am|RainToday|label|       rawPrediction|prediction|         probability|\n",
      "+-------+----------+-----------+------------------+---------+-----+--------------------+----------+--------------------+\n",
      "|    5.4|         N|       98.0|1017.6537584159615|       No|  0.0|[1.20981631649254...|       0.0|[0.91831219076906...|\n",
      "|    7.9|         N|       99.0|            1023.4|       No|  0.0|[0.42642345552010...|       0.0|[0.70116400582484...|\n",
      "|   -0.1|         N|       99.0|            1019.8|       No|  0.0|[1.11998847790747...|       0.0|[0.90378245439185...|\n",
      "|    3.5|         N|       85.0|1017.6537584159615|       No|  0.0|[1.30491472732623...|       0.0|[0.93149151371263...|\n",
      "|    6.4|         N|       97.0|            1018.9|       No|  0.0|[1.06765274872922...|       0.0|[0.89428762580315...|\n",
      "|    9.0|         N|       99.0|            1022.4|       No|  0.0|[0.92905347449001...|       0.0|[0.86507614491752...|\n",
      "|    7.6|         N|       99.0|            1029.9|       No|  0.0|[1.25072565387772...|       0.0|[0.92424349943857...|\n",
      "|    7.1|         N|       97.0|1017.6537584159615|       No|  0.0|[0.8931371849599,...|       0.0|[0.85646989570959...|\n",
      "|   11.7|         N|       79.0|            1018.8|       No|  0.0|[0.70397392677127...|       0.0|[0.80344206448238...|\n",
      "|    0.0|         N|       75.0|            1025.4|       No|  0.0|[1.42602920933278...|       0.0|[0.94542498757857...|\n",
      "+-------+----------+-----------+------------------+---------+-----+--------------------+----------+--------------------+\n",
      "only showing top 10 rows\n",
      "\n",
      "Test Area Under ROC: 0.8607742936993974\n",
      "\n",
      " cacheNodeIds: If false, the algorithm will pass trees to executors to match instances with nodes. If true, the algorithm will cache node IDs for each instance. Caching can speed up training of deeper trees. Users can set how often should the cache be checkpointed or disable it by setting checkpointInterval. (default: False)\n",
      "checkpointInterval: set checkpoint interval (>= 1) or disable checkpoint (-1). E.g. 10 means that the cache will get checkpointed every 10 iterations. Note: this setting will be ignored if the checkpoint directory is not set in the SparkContext. (default: 10)\n",
      "featureSubsetStrategy: The number of features to consider for splits at each tree node. Supported options: 'auto' (choose automatically for task: If numTrees == 1, set to 'all'. If numTrees > 1 (forest), set to 'sqrt' for classification and to 'onethird' for regression), 'all' (use all features), 'onethird' (use 1/3 of the features), 'sqrt' (use sqrt(number of features)), 'log2' (use log2(number of features)), 'n' (when n is in the range (0, 1.0], use n * number of features. When n is in the range (1, number of features), use n features). default = 'auto' (default: all)\n",
      "featuresCol: features column name. (default: features)\n",
      "labelCol: label column name. (default: label)\n",
      "lossType: Loss function which GBT tries to minimize (case-insensitive). Supported options: logistic (default: logistic)\n",
      "maxBins: Max number of bins for discretizing continuous features.  Must be >=2 and >= number of categories for any categorical feature. (default: 32)\n",
      "maxDepth: Maximum depth of the tree. (>= 0) E.g., depth 0 means 1 leaf node; depth 1 means 1 internal node + 2 leaf nodes. (default: 5)\n",
      "maxIter: max number of iterations (>= 0). (default: 20, current: 20)\n",
      "maxMemoryInMB: Maximum memory in MB allocated to histogram aggregation. If too small, then 1 node will be split per iteration, and its aggregates may exceed this size. (default: 256)\n",
      "minInfoGain: Minimum information gain for a split to be considered at a tree node. (default: 0.0)\n",
      "minInstancesPerNode: Minimum number of instances each child must have after split. If a split causes the left or right child to have fewer than minInstancesPerNode, the split will be discarded as invalid. Should be >= 1. (default: 1)\n",
      "predictionCol: prediction column name. (default: prediction)\n",
      "seed: random seed. (default: -5689717847548396428)\n",
      "stepSize: Step size (a.k.a. learning rate) in interval (0, 1] for shrinking the contribution of each estimator. (default: 0.1)\n",
      "subsamplingRate: Fraction of the training data used for learning each decision tree, in range (0, 1]. (default: 1.0)\n"
     ]
    }
   ],
   "source": [
    "gbt = GBTClassifier(maxIter=20)\n",
    "gbtModel = gbt.fit(train)\n",
    "gbt_predictions = gbtModel.transform(test)\n",
    "gbt_predictions.select('MinTemp', 'WindDir9am','Humidity9am','Pressure9am','RainToday', 'label', 'rawPrediction', 'prediction', 'probability').show(10)\n",
    " \n",
    "#Use the #BinaryClassificationEvaluator method to evaluate the accuracy of the model\n",
    "evaluator = BinaryClassificationEvaluator()\n",
    "gbt_accuracy = evaluator.evaluate(gbt_predictions)\n",
    "print(\"Test Area Under ROC: \" + str(evaluator.evaluate(gbt_predictions, {evaluator.metricName: \"areaUnderROC\"})))\n",
    " \n",
    "#Use explainParams() to output a list of all parameters and their definitions\n",
    "print(\"\\n\",gbt.explainParams())"
   ]
  },
  {
   "cell_type": "markdown",
   "metadata": {},
   "source": [
    "## Random forest algorithm"
   ]
  },
  {
   "cell_type": "code",
   "execution_count": 36,
   "metadata": {
    "scrolled": true
   },
   "outputs": [
    {
     "name": "stdout",
     "output_type": "stream",
     "text": [
      "+-------+----------+-----------+------------------+---------+-----+--------------------+----------+--------------------+\n",
      "|MinTemp|WindDir9am|Humidity9am|       Pressure9am|RainToday|label|       rawPrediction|prediction|         probability|\n",
      "+-------+----------+-----------+------------------+---------+-----+--------------------+----------+--------------------+\n",
      "|    5.4|         N|       98.0|1017.6537584159615|       No|  0.0|[17.4928954844736...|       0.0|[0.87464477422368...|\n",
      "|    7.9|         N|       99.0|            1023.4|       No|  0.0|[14.2393343442020...|       0.0|[0.71196671721010...|\n",
      "|   -0.1|         N|       99.0|            1019.8|       No|  0.0|[17.5698533815786...|       0.0|[0.87849266907893...|\n",
      "|    3.5|         N|       85.0|1017.6537584159615|       No|  0.0|[17.4928954844736...|       0.0|[0.87464477422368...|\n",
      "|    6.4|         N|       97.0|            1018.9|       No|  0.0|[17.5131119263795...|       0.0|[0.87565559631897...|\n",
      "|    9.0|         N|       99.0|            1022.4|       No|  0.0|[17.3323103923651...|       0.0|[0.86661551961825...|\n",
      "|    7.6|         N|       99.0|            1029.9|       No|  0.0|[15.0579971731570...|       0.0|[0.75289985865785...|\n",
      "|    7.1|         N|       97.0|1017.6537584159615|       No|  0.0|[17.1864692049043...|       0.0|[0.85932346024521...|\n",
      "|   11.7|         N|       79.0|            1018.8|       No|  0.0|[14.5245692024741...|       0.0|[0.72622846012370...|\n",
      "|    0.0|         N|       75.0|            1025.4|       No|  0.0|[17.8387688967403...|       0.0|[0.89193844483701...|\n",
      "+-------+----------+-----------+------------------+---------+-----+--------------------+----------+--------------------+\n",
      "only showing top 10 rows\n",
      "\n",
      "Test Area Under ROC: 0.8327606595204546\n"
     ]
    }
   ],
   "source": [
    "from pyspark.ml.classification import RandomForestClassifier\n",
    "\n",
    "rf = RandomForestClassifier(labelCol=\"label\",featuresCol=\"features\", numTrees=20)\n",
    "\n",
    "model = rf.fit(train)\n",
    "\n",
    "rf_predictions = model.transform(test)\n",
    "\n",
    "rf_predictions.select('MinTemp', 'WindDir9am','Humidity9am','Pressure9am','RainToday', 'label', 'rawPrediction', 'prediction', 'probability').show(10)\n",
    "\n",
    "\n",
    "evaluator = BinaryClassificationEvaluator()\n",
    "\n",
    "rf_accuracy = evaluator.evaluate(rf_predictions)\n",
    "\n",
    "print(\"Test Area Under ROC: \" + str(evaluator.evaluate(rf_predictions, {evaluator.metricName: \"areaUnderROC\"})))"
   ]
  },
  {
   "cell_type": "markdown",
   "metadata": {},
   "source": [
    "### Bar plot of different accuracies "
   ]
  },
  {
   "cell_type": "code",
   "execution_count": 37,
   "metadata": {},
   "outputs": [
    {
     "data": {
      "image/png": "[encoded data removed]",
      "text/plain": [
       "<Figure size 432x288 with 1 Axes>"
      ]
     },
     "metadata": {
      "needs_background": "light"
     },
     "output_type": "display_data"
    }
   ],
   "source": [
    "\n",
    "X = ['Logistic','Binary Tree','GBT','random_forest']\n",
    "Y = [lr_accuracy*100,binary_accuracy*100,gbt_accuracy*100,rf_accuracy*100]\n",
    "\n",
    "barlist = plt.bar(X, Y)\n",
    "plt.title(\"Different Model Accuracy\")\n",
    "plt.ylabel('Model Accuracy')\n",
    "plt.xlabel('Model')\n",
    "barlist[0].set_color('r')\n",
    "barlist[1].set_color('g')\n",
    "barlist[2].set_color('b')\n",
    "barlist[3].set_color('y')\n",
    "plt.show()\n",
    "\n"
   ]
  },
  {
   "cell_type": "markdown",
   "metadata": {},
   "source": [
    "As we can see from above plot, we can clearly say that Grandient Boost Technique, has outperformed when compared to the other classification techniques.\n",
    "\n",
    "As we can see that it is beacuse of the number of iterations and considering the repated data in the Boosting technique."
   ]
  },
  {
   "cell_type": "markdown",
   "metadata": {},
   "source": [
    "### Step 09: Calculate the confusion matrix and find the precision, recall, and F1 score of each classification algorithm. Explain how the accuracy of the predication can be improved?"
   ]
  },
  {
   "cell_type": "markdown",
   "metadata": {},
   "source": [
    "## `Confusion Matrix:`\n",
    "\n",
    "Confusion matrix is a table, which is used to measure the performance of the classification model on a set of test for which true values are known.\n",
    "\n",
    "Can identify the confusion between the clasees in wich one class is misclassified as the other class. Performance measures are compared using th confusion matrix.\n",
    "\n",
    "                        class1         class2\n",
    "                        Predicted NO   Predicted YES\n",
    "            \n",
    "            class1         TN             FP\n",
    "            Actual NO\n",
    "            \n",
    "            class2         FN             TP\n",
    "            Actual YES\n",
    "        \n",
    "Here,\n",
    "\n",
    "- Class 1 : Negative (no)\n",
    "\n",
    "- Class 2 : Positive (yes)\n",
    "\n",
    "Definition of the Terms:\n",
    "\n",
    "- Positive (P) : Observation is positive (for example: is an apple).\n",
    "\n",
    "- Negative (N) : Observation is not positive (for example: is not an apple).\n",
    "\n",
    "- True Positive (TP) : Observation is positive, and is predicted to be positive.\n",
    "\n",
    "- False Negative (FN) : Observation is positive, but is predicted negative.\n",
    "\n",
    "- True Negative (TN) : Observation is negative, and is predicted to be negative.\n",
    "\n",
    "- False Positive (FP) : Observation is negative, but is predicted positive."
   ]
  },
  {
   "cell_type": "markdown",
   "metadata": {},
   "source": [
    "Classification Rate/Accuracy:\n",
    "Classification Rate or Accuracy is given by the relation:"
   ]
  },
  {
   "cell_type": "markdown",
   "metadata": {},
   "source": [
    "accuracy = $\\frac{TP+TN}{TP+TN+FP+FN}$"
   ]
  },
  {
   "cell_type": "markdown",
   "metadata": {},
   "source": [
    "#### Confusion Matrix for Logistic Regression"
   ]
  },
  {
   "cell_type": "code",
   "execution_count": 38,
   "metadata": {},
   "outputs": [
    {
     "data": {
      "text/plain": [
       "array([[30810.,  2248.],\n",
       "       [ 5564.,  3945.]])"
      ]
     },
     "execution_count": 38,
     "metadata": {},
     "output_type": "execute_result"
    }
   ],
   "source": [
    "predictionRDD = lr_predictions.select(['label', 'prediction']) \\\n",
    "                            .rdd.map(lambda line: (line[1], line[0]))\n",
    "metrics = MulticlassMetrics(predictionRDD)\n",
    "cnf_matrix = metrics.confusionMatrix().toArray()\n",
    "cnf_matrix"
   ]
  },
  {
   "cell_type": "code",
   "execution_count": 39,
   "metadata": {},
   "outputs": [
    {
     "name": "stdout",
     "output_type": "stream",
     "text": [
      "Accuracy Score :  0.8164775530340405\n"
     ]
    }
   ],
   "source": [
    "print(\"Accuracy Score : \", metrics.accuracy)"
   ]
  },
  {
   "cell_type": "code",
   "execution_count": 40,
   "metadata": {},
   "outputs": [
    {
     "data": {
      "image/png": "[encoded data removed]",
      "text/plain": [
       "<Figure size 432x288 with 2 Axes>"
      ]
     },
     "metadata": {
      "needs_background": "light"
     },
     "output_type": "display_data"
    }
   ],
   "source": [
    "fig = plt.figure()\n",
    "ax = fig.add_subplot(111)\n",
    "cax = ax.matshow(cnf_matrix)\n",
    "plt.title('Confusion matrix of the Logistic Regression classifier')\n",
    "fig.colorbar(cax)\n",
    "plt.xlabel('Predicted', labelpad=20)\n",
    "plt.ylabel('True')\n",
    "plt.show()"
   ]
  },
  {
   "cell_type": "markdown",
   "metadata": {},
   "source": [
    "### `Recall:`\n",
    "\n",
    "Recall can be defined as the ratio of the total number of correctly classified positive divide to the total number of positive \n",
    "\n",
    "High Recall indicates the class is correctly recognized (small number of FN)."
   ]
  },
  {
   "cell_type": "markdown",
   "metadata": {},
   "source": [
    "Recall =  $\\frac{TP}{TP+FN}$"
   ]
  },
  {
   "cell_type": "markdown",
   "metadata": {},
   "source": [
    "### `Precision Score:`\n",
    "\n",
    "the value of precision we divide the total number of correctly classified positive  by the total number of predicted positive.\n",
    "\n",
    "High Precision indicates an example labeled as positive is indeed positive (small number of FP).\n",
    "\n",
    "\n",
    "precision = $\\frac{TP}{TP+FP}$"
   ]
  },
  {
   "cell_type": "markdown",
   "metadata": {},
   "source": [
    "`High recall, low precision:` This means that most of the positive  are correctly recognized (low FN) but there are a lot of false positives.\n",
    "\n",
    "`Low recall, high precision:` This shows that we miss a lot of positive  (high FN) but those we predict as positive are indeed positive (low FP) "
   ]
  },
  {
   "cell_type": "markdown",
   "metadata": {},
   "source": [
    "### `F1 score:`\n",
    "\n",
    "F-measure which uses Harmonic Mean in place of Arithmetic Mean as it punishes the extreme values more.\n",
    "\n",
    "The F-Measure will always be nearer to the smaller value of Precision or Recall.\n",
    "\n",
    "F1 score = $\\frac{2*Recall*Precesion}{Recal+Precesion}$"
   ]
  },
  {
   "cell_type": "markdown",
   "metadata": {},
   "source": [
    "###### Precesion, recal and f1 score for Logistic Regression"
   ]
  },
  {
   "cell_type": "code",
   "execution_count": 41,
   "metadata": {},
   "outputs": [
    {
     "name": "stdout",
     "output_type": "stream",
     "text": [
      "Class 0.0 precision = 0.8470335954253038\n",
      "Class 0.0 recall = 0.931998306007623\n",
      "Class 0.0 F1 Measure = 0.8874870376771518\n",
      "*****\n",
      "Class 1.0 precision = 0.637009526885193\n",
      "Class 1.0 recall = 0.41487012304132925\n",
      "Class 1.0 F1 Measure = 0.5024837600305694\n",
      "*****\n"
     ]
    }
   ],
   "source": [
    "labels = [0.0,1.0]\n",
    "for label in sorted(labels):\n",
    "    print(\"Class %s precision = %s\" % (label, metrics.precision(label)))\n",
    "    print(\"Class %s recall = %s\" % (label, metrics.recall(label)))\n",
    "    print(\"Class %s F1 Measure = %s\" % (label, metrics.fMeasure(label, beta=1.0)))\n",
    "    print(\"*****\")"
   ]
  },
  {
   "cell_type": "markdown",
   "metadata": {},
   "source": [
    "As we can say that, recall is lower than the precision, that means we miss lot of positive in this model."
   ]
  },
  {
   "cell_type": "markdown",
   "metadata": {},
   "source": [
    "##### Confusion matrix for Decession tree"
   ]
  },
  {
   "cell_type": "code",
   "execution_count": 42,
   "metadata": {},
   "outputs": [
    {
     "data": {
      "text/plain": [
       "array([[27489.,  5569.],\n",
       "       [ 4243.,  5266.]])"
      ]
     },
     "execution_count": 42,
     "metadata": {},
     "output_type": "execute_result"
    }
   ],
   "source": [
    "predictionRDD = dt_predictions.select(['label', 'prediction']) \\\n",
    "                            .rdd.map(lambda line: (line[1], line[0]))\n",
    "metrics = MulticlassMetrics(predictionRDD)\n",
    "cnf_matrix = metrics.confusionMatrix().toArray()\n",
    "cnf_matrix"
   ]
  },
  {
   "cell_type": "code",
   "execution_count": 43,
   "metadata": {},
   "outputs": [
    {
     "name": "stdout",
     "output_type": "stream",
     "text": [
      "Accuracy Score :  0.7694927995865342\n"
     ]
    }
   ],
   "source": [
    "print(\"Accuracy Score : \", metrics.accuracy)"
   ]
  },
  {
   "cell_type": "code",
   "execution_count": 44,
   "metadata": {},
   "outputs": [
    {
     "data": {
      "image/png": "[encoded data removed]",
      "text/plain": [
       "<Figure size 432x288 with 2 Axes>"
      ]
     },
     "metadata": {
      "needs_background": "light"
     },
     "output_type": "display_data"
    }
   ],
   "source": [
    "fig = plt.figure()\n",
    "ax = fig.add_subplot(111)\n",
    "cax = ax.matshow(cnf_matrix)\n",
    "plt.title('Confusion matrix of the Decession Tree classifier', y =1.08)\n",
    "fig.colorbar(cax)\n",
    "plt.xlabel('Predicted', labelpad=20)\n",
    "plt.ylabel('True')\n",
    "plt.show()"
   ]
  },
  {
   "cell_type": "markdown",
   "metadata": {},
   "source": [
    "###### Precesion , recall, F1 score for decession tree "
   ]
  },
  {
   "cell_type": "code",
   "execution_count": 45,
   "metadata": {},
   "outputs": [
    {
     "name": "stdout",
     "output_type": "stream",
     "text": [
      "Class 0.0 precision = 0.866286398588176\n",
      "Class 0.0 recall = 0.8315385080767137\n",
      "Class 0.0 F1 Measure = 0.8485568760611206\n",
      "*****\n",
      "Class 1.0 precision = 0.48601753576372864\n",
      "Class 1.0 recall = 0.553791145230834\n",
      "Class 1.0 F1 Measure = 0.517695635076681\n",
      "*****\n"
     ]
    }
   ],
   "source": [
    "labels = [0.0,1.0]\n",
    "for label in sorted(labels):\n",
    "    print(\"Class %s precision = %s\" % (label, metrics.precision(label)))\n",
    "    print(\"Class %s recall = %s\" % (label, metrics.recall(label)))\n",
    "    print(\"Class %s F1 Measure = %s\" % (label, metrics.fMeasure(label, beta=1.0)))\n",
    "    print(\"*****\")"
   ]
  },
  {
   "cell_type": "markdown",
   "metadata": {},
   "source": [
    "As we can see that recall is greater than the precesion, this means lot of positive are correctly classified "
   ]
  },
  {
   "cell_type": "markdown",
   "metadata": {},
   "source": [
    "##### Confusion matrix for GBT "
   ]
  },
  {
   "cell_type": "code",
   "execution_count": 46,
   "metadata": {},
   "outputs": [
    {
     "data": {
      "text/plain": [
       "array([[31410.,  1648.],\n",
       "       [ 5041.,  4468.]])"
      ]
     },
     "execution_count": 46,
     "metadata": {},
     "output_type": "execute_result"
    }
   ],
   "source": [
    "predictionRDD = gbt_predictions.select(['label', 'prediction']) \\\n",
    "                            .rdd.map(lambda line: (line[1], line[0]))\n",
    "metrics = MulticlassMetrics(predictionRDD)\n",
    "cnf_matrix = metrics.confusionMatrix().toArray()\n",
    "cnf_matrix"
   ]
  },
  {
   "cell_type": "code",
   "execution_count": 47,
   "metadata": {},
   "outputs": [
    {
     "name": "stdout",
     "output_type": "stream",
     "text": [
      "Accuracy Score :  0.8428594920948153\n"
     ]
    }
   ],
   "source": [
    "print(\"Accuracy Score : \", metrics.accuracy)"
   ]
  },
  {
   "cell_type": "code",
   "execution_count": 48,
   "metadata": {},
   "outputs": [
    {
     "data": {
      "image/png": "[encoded data removed]",
      "text/plain": [
       "<Figure size 432x288 with 2 Axes>"
      ]
     },
     "metadata": {
      "needs_background": "light"
     },
     "output_type": "display_data"
    }
   ],
   "source": [
    "fig = plt.figure()\n",
    "ax = fig.add_subplot(111)\n",
    "cax = ax.matshow(cnf_matrix)\n",
    "plt.title('Confusion matrix of the Gradient Boost Tree classifier', y =1.08)\n",
    "fig.colorbar(cax)\n",
    "plt.xlabel('Predicted', labelpad=20)\n",
    "plt.ylabel('True')\n",
    "plt.show()"
   ]
  },
  {
   "cell_type": "markdown",
   "metadata": {},
   "source": [
    "##### Precision, recall and F1 score for GBT"
   ]
  },
  {
   "cell_type": "code",
   "execution_count": 49,
   "metadata": {},
   "outputs": [
    {
     "name": "stdout",
     "output_type": "stream",
     "text": [
      "Class 0.0 precision = 0.8617047543277276\n",
      "Class 0.0 recall = 0.9501482243329905\n",
      "Class 0.0 F1 Measure = 0.9037678573997612\n",
      "****\n",
      "Class 1.0 precision = 0.7305428384565075\n",
      "Class 1.0 recall = 0.4698706488589757\n",
      "Class 1.0 F1 Measure = 0.571904\n",
      "****\n"
     ]
    }
   ],
   "source": [
    "labels = [0.0,1.0]\n",
    "for label in sorted(labels):\n",
    "    print(\"Class %s precision = %s\" % (label, metrics.precision(label)))\n",
    "    print(\"Class %s recall = %s\" % (label, metrics.recall(label)))\n",
    "    print(\"Class %s F1 Measure = %s\" % (label, metrics.fMeasure(label, beta=1.0)))\n",
    "    print(\"****\")"
   ]
  },
  {
   "cell_type": "markdown",
   "metadata": {},
   "source": [
    "As we can see that, precision is greater than the recall, this shows that we misssed lot of positive classifications"
   ]
  },
  {
   "cell_type": "markdown",
   "metadata": {},
   "source": [
    "##### Confusion matrix for Random Forest:"
   ]
  },
  {
   "cell_type": "code",
   "execution_count": 50,
   "metadata": {},
   "outputs": [
    {
     "data": {
      "text/plain": [
       "array([[32145.,   913.],\n",
       "       [ 6258.,  3251.]])"
      ]
     },
     "execution_count": 50,
     "metadata": {},
     "output_type": "execute_result"
    }
   ],
   "source": [
    "predictionRDD = rf_predictions.select(['label', 'prediction']) \\\n",
    "                            .rdd.map(lambda line: (line[1], line[0]))\n",
    "metrics = MulticlassMetrics(predictionRDD)\n",
    "cnf_matrix = metrics.confusionMatrix().toArray()\n",
    "cnf_matrix"
   ]
  },
  {
   "cell_type": "code",
   "execution_count": 51,
   "metadata": {},
   "outputs": [
    {
     "name": "stdout",
     "output_type": "stream",
     "text": [
      "Accuracy Score :  0.8315361665139662\n"
     ]
    }
   ],
   "source": [
    "print(\"Accuracy Score : \", metrics.accuracy)"
   ]
  },
  {
   "cell_type": "code",
   "execution_count": 52,
   "metadata": {},
   "outputs": [
    {
     "data": {
      "image/png": "[encoded data removed]",
      "text/plain": [
       "<Figure size 432x288 with 2 Axes>"
      ]
     },
     "metadata": {
      "needs_background": "light"
     },
     "output_type": "display_data"
    }
   ],
   "source": [
    "fig = plt.figure()\n",
    "ax = fig.add_subplot(111)\n",
    "cax = ax.matshow(cnf_matrix)\n",
    "plt.title('Confusion matrix of the Random Forest classifier',y=1.08)\n",
    "fig.colorbar(cax)\n",
    "plt.xlabel('Predicted', labelpad=20)\n",
    "plt.ylabel('True')\n",
    "plt.show()"
   ]
  },
  {
   "cell_type": "markdown",
   "metadata": {},
   "source": [
    "#### precision, recall and F1 score for Random forest"
   ]
  },
  {
   "cell_type": "code",
   "execution_count": 53,
   "metadata": {},
   "outputs": [
    {
     "name": "stdout",
     "output_type": "stream",
     "text": [
      "Class 0.0 precision = 0.8370439809389891\n",
      "Class 0.0 recall = 0.9723818742815658\n",
      "Class 0.0 F1 Measure = 0.8996515581925805\n",
      "****\n",
      "Class 1.0 precision = 0.7807396733909702\n",
      "Class 1.0 recall = 0.3418866337154275\n",
      "Class 1.0 F1 Measure = 0.4755357273458642\n",
      "****\n"
     ]
    }
   ],
   "source": [
    "labels = [0.0,1.0]\n",
    "for label in sorted(labels):\n",
    "    print(\"Class %s precision = %s\" % (label, metrics.precision(label)))\n",
    "    print(\"Class %s recall = %s\" % (label, metrics.recall(label)))\n",
    "    print(\"Class %s F1 Measure = %s\" % (label, metrics.fMeasure(label, beta=1.0)))\n",
    "    print(\"****\")"
   ]
  },
  {
   "cell_type": "markdown",
   "metadata": {},
   "source": [
    "As we ca see that Precision is greater than the Recall, this means that we can say that we missed lot of positive classifications "
   ]
  },
  {
   "cell_type": "markdown",
   "metadata": {},
   "source": [
    "### Conclusion:\n",
    "  \n",
    "As we can see from the above models, GBT classifier has done well when compared to the other classification techniques.\n",
    "\n",
    "Since F score is calculated based on the precisiona nd recall, for better accuracy instead of increasing the value of precision ad recall metrics individual (which is hard improvising one will reduce the other value) we can try to maximize the value of f-score of a model.<br>\n",
    "\n",
    "One other way is to tune the hyperparameters before generating the final model, because we externally give the hyper parameters and these value affect the model performance"
   ]
  },
  {
   "cell_type": "code",
   "execution_count": null,
   "metadata": {},
   "outputs": [],
   "source": []
  }
 ],
 "metadata": {
  "kernelspec": {
   "display_name": "Python 3",
   "language": "python",
   "name": "python3"
  },
  "language_info": {
   "codemirror_mode": {
    "name": "ipython",
    "version": 3
   },
   "file_extension": ".py",
   "mimetype": "text/x-python",
   "name": "python",
   "nbconvert_exporter": "python",
   "pygments_lexer": "ipython3",
   "version": "3.6.5"
  }
 },
 "nbformat": 4,
 "nbformat_minor": 2
}
